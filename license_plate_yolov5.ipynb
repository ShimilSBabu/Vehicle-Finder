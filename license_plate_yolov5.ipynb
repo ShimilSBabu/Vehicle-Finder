{
  "cells": [
    {
      "cell_type": "markdown",
      "source": [
        "# MOUNTING COLAB"
      ],
      "metadata": {
        "id": "mPCx5XFFfqyB"
      },
      "id": "mPCx5XFFfqyB"
    },
    {
      "cell_type": "code",
      "source": [
        "from google.colab import drive\n",
        "drive.mount('/content/drive')"
      ],
      "metadata": {
        "id": "Hzm04PtPYmL1"
      },
      "id": "Hzm04PtPYmL1",
      "execution_count": null,
      "outputs": []
    },
    {
      "cell_type": "markdown",
      "source": [
        "# INSTALLING LIBRARIES"
      ],
      "metadata": {
        "id": "6b6NpNLMf1J3"
      },
      "id": "6b6NpNLMf1J3"
    },
    {
      "cell_type": "code",
      "execution_count": null,
      "metadata": {
        "id": "e90Hk0vMxWqy"
      },
      "outputs": [],
      "source": [
        "!pip3 install easyocr"
      ],
      "id": "e90Hk0vMxWqy"
    },
    {
      "cell_type": "markdown",
      "source": [
        "# IMPORTING LIBRARIES"
      ],
      "metadata": {
        "id": "y7ySQmAcfh0o"
      },
      "id": "y7ySQmAcfh0o"
    },
    {
      "cell_type": "code",
      "execution_count": null,
      "metadata": {
        "id": "57c5b260"
      },
      "outputs": [],
      "source": [
        "import torch\n",
        "import cv2\n",
        "import time\n",
        "import re\n",
        "import numpy as np\n",
        "import easyocr"
      ],
      "id": "57c5b260"
    },
    {
      "cell_type": "markdown",
      "source": [
        "# DEFINING GLOBAL VARIABLES"
      ],
      "metadata": {
        "id": "ZKVEpPXIgAgY"
      },
      "id": "ZKVEpPXIgAgY"
    },
    {
      "cell_type": "code",
      "source": [
        "EASY_OCR = easyocr.Reader(['en']) ### initiating easyocr\n",
        "OCR_TH = 0.2"
      ],
      "metadata": {
        "id": "ns49mw7WgoI-"
      },
      "id": "ns49mw7WgoI-",
      "execution_count": null,
      "outputs": []
    },
    {
      "cell_type": "markdown",
      "source": [
        "# FUNCTIONS"
      ],
      "metadata": {
        "id": "rfB30soyguFP"
      },
      "id": "rfB30soyguFP"
    },
    {
      "cell_type": "markdown",
      "source": [
        "## Function to read input details from user"
      ],
      "metadata": {
        "id": "RpNpxGR0JmBf"
      },
      "id": "RpNpxGR0JmBf"
    },
    {
      "cell_type": "code",
      "source": [
        "def input_details():\n",
        "\n",
        "  # Read license plate number from user\n",
        "  vehicle_license_number  = input(\"Enter License Plate Number : \")\n",
        "\n",
        "  # # Number of review pages to be checked\n",
        "  vid_path = input(\"Enter path of the video file : \")\n",
        "\n",
        "  # Read number of frames per second needed\n",
        "  frame_frequency = int(input(\"Enter number of frames per second needed : \"))\n",
        "\n",
        "  return vehicle_license_number, vid_path, frame_frequency"
      ],
      "metadata": {
        "id": "Kdl8B06-t3nK"
      },
      "id": "Kdl8B06-t3nK",
      "execution_count": null,
      "outputs": []
    },
    {
      "cell_type": "markdown",
      "source": [
        "## Function for running detection"
      ],
      "metadata": {
        "id": "J1DTfU8Fhae-"
      },
      "id": "J1DTfU8Fhae-"
    },
    {
      "cell_type": "code",
      "execution_count": null,
      "metadata": {
        "id": "a7e851a7"
      },
      "outputs": [],
      "source": [
        "def detectx (frame, model):\n",
        "    frame = [frame]\n",
        "    results = model(frame)\n",
        "\n",
        "    labels, cordinates = results.xyxyn[0][:, -1], results.xyxyn[0][:, :-1]\n",
        "\n",
        "    return labels, cordinates"
      ],
      "id": "a7e851a7"
    },
    {
      "cell_type": "markdown",
      "source": [
        "## Function to plot Bounting Box and get coordinates"
      ],
      "metadata": {
        "id": "iQnwrlcDHBUE"
      },
      "id": "iQnwrlcDHBUE"
    },
    {
      "cell_type": "code",
      "execution_count": null,
      "metadata": {
        "id": "e44b3d81"
      },
      "outputs": [],
      "source": [
        "def plot_boxes(results, frame, classes):\n",
        "\n",
        "    labels, cord = results\n",
        "    n = len(labels)\n",
        "    x_shape, y_shape = frame.shape[1], frame.shape[0]\n",
        "\n",
        "\n",
        "    ### looping through the detections\n",
        "    for i in range(n):\n",
        "        row = cord[i]\n",
        "        if row[4] >= 0.55:\n",
        "            x1, y1, x2, y2 = int(row[0]*x_shape), int(row[1]*y_shape), int(row[2]*x_shape), int(row[3]*y_shape) ## BBOx coordniates\n",
        "            text_d = classes[int(labels[i])]\n",
        "            # cv2.imwrite(\"./output/dp.jpg\",frame[int(y1):int(y2), int(x1):int(x2)])\n",
        "\n",
        "            coords = [x1,y1,x2,y2]\n",
        "            \n",
        "            recognize_plate_easyocr(img = frame, coords= coords, reader= EASY_OCR, region_threshold= OCR_TH)\n",
        "\n",
        "\n"
      ],
      "id": "e44b3d81"
    },
    {
      "cell_type": "markdown",
      "source": [
        "## Function to recognize the license plates"
      ],
      "metadata": {
        "id": "NL2CMqbZHr9U"
      },
      "id": "NL2CMqbZHr9U"
    },
    {
      "cell_type": "code",
      "execution_count": null,
      "metadata": {
        "id": "c5e55175"
      },
      "outputs": [],
      "source": [
        "def recognize_plate_easyocr(img, coords,reader,region_threshold):\n",
        "    # separate coordinates from box\n",
        "    xmin, ymin, xmax, ymax = coords\n",
        "    nplate = img[int(ymin):int(ymax), int(xmin):int(xmax)] ### cropping the number plate from the whole image\n",
        "\n",
        "\n",
        "    ocr_result = reader.readtext(nplate)\n",
        "\n",
        "\n",
        "    filter_text(region=nplate, ocr_result=ocr_result, region_threshold= region_threshold)\n"
      ],
      "id": "c5e55175"
    },
    {
      "cell_type": "markdown",
      "source": [
        "## Function to get timecode from frame number"
      ],
      "metadata": {
        "id": "1aEF8ysWIB3k"
      },
      "id": "1aEF8ysWIB3k"
    },
    {
      "cell_type": "code",
      "source": [
        "def frame_timecode(frame_number):\n",
        "  # frame_hours = frame_number //(fps * 3600)\n",
        "  frame_minutes = frame_number // (fps * 60) % 60\n",
        "  frme_seconds =  frame_number // fps % 60\n",
        "\n",
        "  frame_time_std = frame_minutes + frme_seconds/100\n",
        "\n",
        "  return frame_time_std"
      ],
      "metadata": {
        "id": "e_zeVX6zWZz6"
      },
      "id": "e_zeVX6zWZz6",
      "execution_count": null,
      "outputs": []
    },
    {
      "cell_type": "markdown",
      "source": [
        "## Function to check for the desired number plate"
      ],
      "metadata": {
        "id": "dXd8OtUcIT5j"
      },
      "id": "dXd8OtUcIT5j"
    },
    {
      "cell_type": "code",
      "source": [
        "def check_plate_num(plate_number):\n",
        "\n",
        "  if vehicle_license_number in plate_number:\n",
        "      frame_time = frame_timecode(frame_no)\n",
        "      final_time = timestamp[-1][1]\n",
        "      if final_time == 0:\n",
        "        timestamp[-1] = [frame_time, frame_time]\n",
        "      elif frame_time - final_time > 0.1:\n",
        "        timestamp.append([frame_time, frame_time])\n",
        "      else:\n",
        "        timestamp[-1][1] = frame_time\n",
        "      print(\"Timestamps : \", timestamp)"
      ],
      "metadata": {
        "id": "ho8gRKIIbtQQ"
      },
      "id": "ho8gRKIIbtQQ",
      "execution_count": null,
      "outputs": []
    },
    {
      "cell_type": "markdown",
      "source": [
        "## Function to filter out wrong detections"
      ],
      "metadata": {
        "id": "KdoHfk1IIxDc"
      },
      "id": "KdoHfk1IIxDc"
    },
    {
      "cell_type": "code",
      "execution_count": null,
      "metadata": {
        "id": "4a8a3c31"
      },
      "outputs": [],
      "source": [
        "def filter_text(region, ocr_result, region_threshold):\n",
        "\n",
        "    rectangle_size = region.shape[0]*region.shape[1]\n",
        "    for result in ocr_result:\n",
        "        length = np.sum(np.subtract(result[0][1], result[0][0]))\n",
        "        height = np.sum(np.subtract(result[0][2], result[0][1]))\n",
        "        \n",
        "        if length*height / rectangle_size > region_threshold:\n",
        "            # plate.append(result[1])\n",
        "            check_plate_num(result[1])\n"
      ],
      "id": "4a8a3c31"
    },
    {
      "cell_type": "markdown",
      "source": [
        "# Main"
      ],
      "metadata": {
        "id": "An6lU862GPo-"
      },
      "id": "An6lU862GPo-"
    },
    {
      "cell_type": "code",
      "execution_count": null,
      "metadata": {
        "id": "dc494df8"
      },
      "outputs": [],
      "source": [
        "vehicle_license_number, vid_path, frame_frequency = input_details()\n",
        "timestamp = [[0,0]]\n",
        "\n",
        "print(\"[INFO] Loading the model... \")\n",
        "\n",
        "## loading the custom trained model\n",
        "# Kindly replace '/content/drive/MyDrive/yolov5-master' with location of your own yolov5-master.\n",
        "# Download the last.pt present in this directory and replace '/content/drive/MyDrive/deep_learning/personal_projects/number_plate_yolo/last.pt' with your path to the uploaded last.pt.\n",
        "model =  torch.hub.load('/content/drive/MyDrive/yolov5-master', 'custom', source ='local', path='/content/drive/MyDrive/deep_learning/personal_projects/number_plate_yolo/last.pt',force_reload=True)\n",
        "print(\"Model loaded successfully...\")\n",
        "\n",
        "classes = model.names ### class names in string format\n",
        "\n",
        "\n",
        "if vid_path != None:\n",
        "    print(f\"[INFO] Working with video: {vid_path}\")\n",
        "\n",
        "    ## reading the video\n",
        "    cap = cv2.VideoCapture(vid_path)\n",
        "\n",
        "\n",
        "    # by default VideoCapture returns float instead of int\n",
        "    fps = int(cap.get(cv2.CAP_PROP_FPS))\n",
        "    frame_frequency = fps//frame_frequency\n",
        "\n",
        "    frame_no = 1\n",
        "\n",
        "    while True:\n",
        "        ret, frame = cap.read()\n",
        "        if ret:\n",
        "          if frame_no % frame_frequency == 0:\n",
        "            # print(f\"[INFO] Working with frame {frame_no} \")\n",
        "\n",
        "            frame = cv2.cvtColor(frame,cv2.COLOR_BGR2RGB)\n",
        "            results = detectx(frame, model = model)\n",
        "            frame = cv2.cvtColor(frame,cv2.COLOR_RGB2BGR)\n",
        "\n",
        "            plot_boxes(results, frame,classes = classes)\n",
        "          frame_no += 1\n",
        "        else:\n",
        "          break\n",
        "    if timestamp[0][1] == 0:\n",
        "      print('The vehicle could not be spotted in the given video.')\n",
        "    else:\n",
        "      print(\"The vehicle appeared in the video at timestamps : \\n\\n\")\n",
        "      for time_instance in timestamp:\n",
        "        print(f\"\\t From {time_instance[0]} to {time_instance[1]}\")\n"
      ],
      "id": "dc494df8"
    }
  ],
  "metadata": {
    "colab": {
      "collapsed_sections": [],
      "provenance": []
    },
    "gpuClass": "standard",
    "kernelspec": {
      "display_name": "Python 3 (ipykernel)",
      "language": "python",
      "name": "python3"
    },
    "language_info": {
      "codemirror_mode": {
        "name": "ipython",
        "version": 3
      },
      "file_extension": ".py",
      "mimetype": "text/x-python",
      "name": "python",
      "nbconvert_exporter": "python",
      "pygments_lexer": "ipython3",
      "version": "3.9.7"
    },
    "accelerator": "GPU"
  },
  "nbformat": 4,
  "nbformat_minor": 5
}